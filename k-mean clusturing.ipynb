{
 "cells": [
  {
   "cell_type": "markdown",
   "id": "a488ab01",
   "metadata": {},
   "source": [
    "# K-MEANS CLUSTERING"
   ]
  },
  {
   "cell_type": "markdown",
   "id": "841e4bc3",
   "metadata": {},
   "source": [
    "## IMPORTING LIBRARIES"
   ]
  },
  {
   "cell_type": "code",
   "execution_count": 1,
   "id": "2044a656",
   "metadata": {},
   "outputs": [],
   "source": [
    "import cv2\n",
    "import numpy as np"
   ]
  },
  {
   "cell_type": "markdown",
   "id": "47fcf283",
   "metadata": {},
   "source": [
    "## ***READING IMAGE***"
   ]
  },
  {
   "cell_type": "code",
   "execution_count": 2,
   "id": "c1fa7380",
   "metadata": {},
   "outputs": [],
   "source": [
    "img=cv2.imread(\"d1.jpg\")"
   ]
  },
  {
   "cell_type": "code",
   "execution_count": 3,
   "id": "eded9988",
   "metadata": {},
   "outputs": [
    {
     "data": {
      "text/plain": [
       "array([[[  8,  48, 251],\n",
       "        [  8,  48, 251],\n",
       "        [  9,  49, 252],\n",
       "        ...,\n",
       "        [ 18,  56, 252],\n",
       "        [ 17,  54, 252],\n",
       "        [ 17,  54, 252]],\n",
       "\n",
       "       [[  9,  49, 252],\n",
       "        [  9,  49, 252],\n",
       "        [  9,  49, 252],\n",
       "        ...,\n",
       "        [ 19,  57, 253],\n",
       "        [ 18,  55, 253],\n",
       "        [ 17,  54, 252]],\n",
       "\n",
       "       [[  9,  49, 251],\n",
       "        [ 10,  50, 252],\n",
       "        [ 12,  50, 252],\n",
       "        ...,\n",
       "        [ 21,  57, 251],\n",
       "        [ 19,  57, 253],\n",
       "        [ 18,  56, 252]],\n",
       "\n",
       "       ...,\n",
       "\n",
       "       [[  3,  41, 253],\n",
       "        [  3,  42, 251],\n",
       "        [  4,  43, 252],\n",
       "        ...,\n",
       "        [ 12,  49, 255],\n",
       "        [ 11,  48, 254],\n",
       "        [ 10,  47, 253]],\n",
       "\n",
       "       [[  3,  41, 253],\n",
       "        [  4,  42, 254],\n",
       "        [  4,  42, 254],\n",
       "        ...,\n",
       "        [ 11,  48, 254],\n",
       "        [ 10,  47, 253],\n",
       "        [  9,  46, 252]],\n",
       "\n",
       "       [[  4,  41, 255],\n",
       "        [  4,  41, 255],\n",
       "        [  5,  42, 255],\n",
       "        ...,\n",
       "        [ 10,  46, 254],\n",
       "        [  9,  45, 253],\n",
       "        [  8,  44, 252]]], dtype=uint8)"
      ]
     },
     "execution_count": 3,
     "metadata": {},
     "output_type": "execute_result"
    }
   ],
   "source": [
    "img"
   ]
  },
  {
   "cell_type": "markdown",
   "id": "51074643",
   "metadata": {},
   "source": [
    "## ***RGB CONVERSION***"
   ]
  },
  {
   "cell_type": "code",
   "execution_count": 4,
   "id": "fb8dc94d",
   "metadata": {},
   "outputs": [],
   "source": [
    "imgrgb=cv2.cvtColor(img,cv2.COLOR_BGR2RGB)"
   ]
  },
  {
   "cell_type": "markdown",
   "id": "6030d5b2",
   "metadata": {},
   "source": [
    "## ***RESHAPE***"
   ]
  },
  {
   "cell_type": "code",
   "execution_count": 5,
   "id": "e6a8ff3c",
   "metadata": {},
   "outputs": [
    {
     "data": {
      "text/plain": [
       "array([[251,  48,   8],\n",
       "       [251,  48,   8],\n",
       "       [252,  49,   9],\n",
       "       ...,\n",
       "       [254,  46,  10],\n",
       "       [253,  45,   9],\n",
       "       [252,  44,   8]], dtype=uint8)"
      ]
     },
     "execution_count": 5,
     "metadata": {},
     "output_type": "execute_result"
    }
   ],
   "source": [
    "vec=imgrgb.reshape((-1,3))\n",
    "vec"
   ]
  },
  {
   "cell_type": "markdown",
   "id": "940f709b",
   "metadata": {},
   "source": [
    "# ***FLOAT CONVERSION***"
   ]
  },
  {
   "cell_type": "code",
   "execution_count": 6,
   "id": "4a9a6fbf",
   "metadata": {},
   "outputs": [
    {
     "data": {
      "text/plain": [
       "array([[251.,  48.,   8.],\n",
       "       [251.,  48.,   8.],\n",
       "       [252.,  49.,   9.],\n",
       "       ...,\n",
       "       [254.,  46.,  10.],\n",
       "       [253.,  45.,   9.],\n",
       "       [252.,  44.,   8.]], dtype=float32)"
      ]
     },
     "execution_count": 6,
     "metadata": {},
     "output_type": "execute_result"
    }
   ],
   "source": [
    "vec=np.float32(vec)\n",
    "vec"
   ]
  },
  {
   "cell_type": "markdown",
   "id": "833a3175",
   "metadata": {},
   "source": [
    "## ***ITERATION TERMINATION CRITERIA*** "
   ]
  },
  {
   "cell_type": "code",
   "execution_count": 7,
   "id": "01229635",
   "metadata": {},
   "outputs": [],
   "source": [
    "criteria=(cv2.TERM_CRITERIA_EPS+cv2.TERM_CRITERIA_MAX_ITER,100,1)"
   ]
  },
  {
   "cell_type": "markdown",
   "id": "74bed610",
   "metadata": {},
   "source": [
    "## ***CLUSTER CONDITIONS***"
   ]
  },
  {
   "cell_type": "code",
   "execution_count": 8,
   "id": "4933dd8c",
   "metadata": {},
   "outputs": [],
   "source": [
    "k=3\n",
    "attempts=100"
   ]
  },
  {
   "cell_type": "markdown",
   "id": "c636d919",
   "metadata": {},
   "source": [
    "## ***k-MEANS CLUSTERING***"
   ]
  },
  {
   "cell_type": "code",
   "execution_count": 9,
   "id": "f8793a3e",
   "metadata": {},
   "outputs": [
    {
     "data": {
      "text/plain": [
       "array([[248.14857 , 245.74104 , 244.41443 ],\n",
       "       [247.97554 , 103.1898  ,  74.77726 ],\n",
       "       [ 78.96074 ,  99.881386, 137.05501 ]], dtype=float32)"
      ]
     },
     "execution_count": 9,
     "metadata": {},
     "output_type": "execute_result"
    }
   ],
   "source": [
    "compactness,label,center=cv2.kmeans(vec,k,None,criteria,attempts,cv2.KMEANS_PP_CENTERS)\n",
    "center"
   ]
  },
  {
   "cell_type": "markdown",
   "id": "37afe318",
   "metadata": {},
   "source": [
    "## ***UNIT CONVERSION***"
   ]
  },
  {
   "cell_type": "code",
   "execution_count": 10,
   "id": "16a84084",
   "metadata": {},
   "outputs": [
    {
     "data": {
      "text/plain": [
       "array([[248, 245, 244],\n",
       "       [247, 103,  74],\n",
       "       [ 78,  99, 137]], dtype=uint8)"
      ]
     },
     "execution_count": 10,
     "metadata": {},
     "output_type": "execute_result"
    }
   ],
   "source": [
    "center=np.uint8(center)\n",
    "center"
   ]
  },
  {
   "cell_type": "markdown",
   "id": "a69ef714",
   "metadata": {},
   "source": [
    "##  ***FLATTENING AND  RESHAPENING***"
   ]
  },
  {
   "cell_type": "code",
   "execution_count": 11,
   "id": "13973103",
   "metadata": {},
   "outputs": [
    {
     "data": {
      "text/plain": [
       "array([[[247, 103,  74],\n",
       "        [247, 103,  74],\n",
       "        [247, 103,  74],\n",
       "        ...,\n",
       "        [247, 103,  74],\n",
       "        [247, 103,  74],\n",
       "        [247, 103,  74]],\n",
       "\n",
       "       [[247, 103,  74],\n",
       "        [247, 103,  74],\n",
       "        [247, 103,  74],\n",
       "        ...,\n",
       "        [247, 103,  74],\n",
       "        [247, 103,  74],\n",
       "        [247, 103,  74]],\n",
       "\n",
       "       [[247, 103,  74],\n",
       "        [247, 103,  74],\n",
       "        [247, 103,  74],\n",
       "        ...,\n",
       "        [247, 103,  74],\n",
       "        [247, 103,  74],\n",
       "        [247, 103,  74]],\n",
       "\n",
       "       ...,\n",
       "\n",
       "       [[247, 103,  74],\n",
       "        [247, 103,  74],\n",
       "        [247, 103,  74],\n",
       "        ...,\n",
       "        [247, 103,  74],\n",
       "        [247, 103,  74],\n",
       "        [247, 103,  74]],\n",
       "\n",
       "       [[247, 103,  74],\n",
       "        [247, 103,  74],\n",
       "        [247, 103,  74],\n",
       "        ...,\n",
       "        [247, 103,  74],\n",
       "        [247, 103,  74],\n",
       "        [247, 103,  74]],\n",
       "\n",
       "       [[247, 103,  74],\n",
       "        [247, 103,  74],\n",
       "        [247, 103,  74],\n",
       "        ...,\n",
       "        [247, 103,  74],\n",
       "        [247, 103,  74],\n",
       "        [247, 103,  74]]], dtype=uint8)"
      ]
     },
     "execution_count": 11,
     "metadata": {},
     "output_type": "execute_result"
    }
   ],
   "source": [
    "res=center[label.flatten()]\n",
    "res_img=res.reshape((imgrgb.shape))\n",
    "res_img"
   ]
  },
  {
   "cell_type": "markdown",
   "id": "3e19b5ca",
   "metadata": {},
   "source": [
    "## ***ORIGINAL AND SEGMENTED IMAGE*** "
   ]
  },
  {
   "cell_type": "code",
   "execution_count": 12,
   "id": "8e44ee7a",
   "metadata": {},
   "outputs": [],
   "source": [
    "cv2.imshow('original',img)\n",
    "cv2.imshow('segmented',res_img)\n",
    "cv2.waitKey(0)\n",
    "cv2.destroyAllWindows()"
   ]
  },
  {
   "cell_type": "markdown",
   "id": "6018c603",
   "metadata": {},
   "source": [
    "## ***MEAN SHIFT***"
   ]
  },
  {
   "cell_type": "code",
   "execution_count": 18,
   "id": "262f146a",
   "metadata": {},
   "outputs": [],
   "source": [
    "image=cv2.imread(\"d1.jpg\")\n",
    "#APPLY MEAN SHIFT SEGMENTATION\n",
    "segmented_image=cv2.pyrMeanShiftFiltering(image,40,40)\n",
    "#Display the segmented image\n",
    "cv2.imshow('original_Image',image)\n",
    "cv2.imshow('Segmented_Image',segmented_image)\n",
    "cv2.waitKey(0)\n",
    "cv2.destroyAllWindows()\n"
   ]
  },
  {
   "cell_type": "code",
   "execution_count": null,
   "id": "89340a22",
   "metadata": {},
   "outputs": [],
   "source": []
  }
 ],
 "metadata": {
  "kernelspec": {
   "display_name": "Python 3 (ipykernel)",
   "language": "python",
   "name": "python3"
  },
  "language_info": {
   "codemirror_mode": {
    "name": "ipython",
    "version": 3
   },
   "file_extension": ".py",
   "mimetype": "text/x-python",
   "name": "python",
   "nbconvert_exporter": "python",
   "pygments_lexer": "ipython3",
   "version": "3.11.5"
  }
 },
 "nbformat": 4,
 "nbformat_minor": 5
}
